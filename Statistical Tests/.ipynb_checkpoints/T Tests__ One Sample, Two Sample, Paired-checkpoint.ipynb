{
 "cells": [
  {
   "cell_type": "code",
   "execution_count": 1,
   "id": "0f3a9074",
   "metadata": {},
   "outputs": [],
   "source": [
    "%matplotlib inline\n",
    "\n",
    "import numpy as np\n",
    "import pandas as pd\n",
    "import scipy.stats as stats\n",
    "import matplotlib.pyplot as plt\n",
    "import math"
   ]
  },
  {
   "cell_type": "markdown",
   "id": "b8274cf7",
   "metadata": {},
   "source": [
    "## One Sample T-Test"
   ]
  },
  {
   "cell_type": "markdown",
   "id": "ccd68704",
   "metadata": {},
   "source": [
    "#### This compares a data sample to a population"
   ]
  },
  {
   "cell_type": "code",
   "execution_count": 44,
   "id": "fef1d887",
   "metadata": {},
   "outputs": [
    {
     "name": "stdout",
     "output_type": "stream",
     "text": [
      "43.000112\n",
      "39.26\n"
     ]
    }
   ],
   "source": [
    "np.random.seed(6)\n",
    "\n",
    "population_ages1 = stats.poisson.rvs(loc=18, mu=35, size=150000)\n",
    "population_ages2 = stats.poisson.rvs(loc=18, mu=10, size=100000)\n",
    "population_ages = np.concatenate((population_ages1, population_ages2))\n",
    "\n",
    "minnesota_ages1 = stats.poisson.rvs(loc=18, mu=30, size=30)\n",
    "minnesota_ages2 = stats.poisson.rvs(loc=18, mu=10, size=20)\n",
    "minnesota_ages = np.concatenate((minnesota_ages1, minnesota_ages2))\n",
    "\n",
    "print(population_ages.mean())\n",
    "print(minnesota_ages.mean())"
   ]
  },
  {
   "cell_type": "code",
   "execution_count": 45,
   "id": "217d5fc6",
   "metadata": {},
   "outputs": [],
   "source": [
    "null_hypothesis = \"The sample / point estimate is not statistically different than our known population / descriptive statistics\"\n",
    "statistical_threshold = 0.05"
   ]
  },
  {
   "cell_type": "code",
   "execution_count": 47,
   "id": "eea2444f",
   "metadata": {},
   "outputs": [
    {
     "name": "stdout",
     "output_type": "stream",
     "text": [
      "10.273425198351445 39.26 50 43.000112\n",
      "2.5742714883655022\n"
     ]
    }
   ],
   "source": [
    "sample_stdv = np.std(minnesota_ages, ddof=1)\n",
    "sample_mean = minnesota_ages.mean()\n",
    "sample_size = len(minnesota_ages)\n",
    "population_mean = population_ages.mean()\n",
    "\n",
    "t_value = (population_mean - sample_mean) / (sample_stdv / (sample_size ** 0.5))\n",
    "\n",
    "print(sample_stdv, sample_mean, sample_size, population_mean)\n",
    "print(t_value)"
   ]
  },
  {
   "cell_type": "code",
   "execution_count": 53,
   "id": "075db43e",
   "metadata": {},
   "outputs": [
    {
     "data": {
      "text/plain": [
       "0.01311868542506156"
      ]
     },
     "execution_count": 53,
     "metadata": {},
     "output_type": "execute_result"
    }
   ],
   "source": [
    "#Shows relationship between t-statistic and p-value\n",
    "(1 - stats.t.cdf(abs(t_value), df = sample_size - 1)) * 2"
   ]
  },
  {
   "cell_type": "code",
   "execution_count": 46,
   "id": "8fca6820",
   "metadata": {},
   "outputs": [
    {
     "name": "stdout",
     "output_type": "stream",
     "text": [
      "-2.5742714883655027 0.013118685425061678\n"
     ]
    }
   ],
   "source": [
    "#ttest on the mean\n",
    "t_statistic, p_value = stats.ttest_1samp(a = minnesota_ages, popmean = population_ages.mean())\n",
    "print(t_statistic, p_value)"
   ]
  },
  {
   "cell_type": "code",
   "execution_count": 58,
   "id": "1f5817b3",
   "metadata": {},
   "outputs": [
    {
     "name": "stdout",
     "output_type": "stream",
     "text": [
      "We reject the null hypothesis\n"
     ]
    }
   ],
   "source": [
    "if p_value > statistical_threshold == True:\n",
    "    print(\"We fail to reject the null hypothesis\")\n",
    "else:\n",
    "    print(\"We reject the null hypothesis\")\n"
   ]
  },
  {
   "cell_type": "code",
   "execution_count": 56,
   "id": "7b25c36e",
   "metadata": {},
   "outputs": [
    {
     "data": {
      "text/plain": [
       "(36.369669080722176, 42.15033091927782)"
      ]
     },
     "execution_count": 56,
     "metadata": {},
     "output_type": "execute_result"
    }
   ],
   "source": [
    "#Create a confidence interval\n",
    "\n",
    "sigma = minnesota_ages.std()/math.sqrt(sample_size)\n",
    "\n",
    "stats.t.interval(0.95, #Confidence Level\n",
    "                df = sample_size - 1, # Degrees of Freedom\n",
    "                loc = sample_mean,\n",
    "                scale = sigma)"
   ]
  },
  {
   "cell_type": "code",
   "execution_count": 59,
   "id": "ae57845d",
   "metadata": {},
   "outputs": [
    {
     "name": "stdout",
     "output_type": "stream",
     "text": [
      "35.40547994092107 43.11452005907893\n"
     ]
    }
   ],
   "source": [
    "#Changing the confidence level to 99%, makes it so that we cannot reject the null hypothesis\n",
    "\n",
    "sigma = minnesota_ages.std()/math.sqrt(sample_size)\n",
    "\n",
    "lb, ub = stats.t.interval(0.99, #Confidence Level\n",
    "                df = sample_size - 1, # Degrees of Freedom\n",
    "                loc = sample_mean,\n",
    "                scale = sigma)\n",
    "print(lb, ub)"
   ]
  },
  {
   "cell_type": "code",
   "execution_count": 60,
   "id": "2461200b",
   "metadata": {},
   "outputs": [
    {
     "name": "stdout",
     "output_type": "stream",
     "text": [
      "We fail to reject the null hypothesis\n"
     ]
    }
   ],
   "source": [
    "if lb <= sample_mean <= ub:\n",
    "    print(\"We fail to reject the null hypothesis\")\n",
    "else:\n",
    "    print(\"We reject the null hypothesis\")"
   ]
  },
  {
   "cell_type": "markdown",
   "id": "e44c5a52",
   "metadata": {},
   "source": [
    "## Two sample T-Test"
   ]
  },
  {
   "cell_type": "code",
   "execution_count": 66,
   "id": "cd6a3e0b",
   "metadata": {},
   "outputs": [
    {
     "name": "stdout",
     "output_type": "stream",
     "text": [
      "42.8\n"
     ]
    }
   ],
   "source": [
    "np.random.seed(12)\n",
    "\n",
    "wisconsin_ages1 = stats.poisson.rvs(loc=18, mu=33, size=30)\n",
    "wisconsin_ages2 = stats.poisson.rvs(loc=18, mu=13, size=20)\n",
    "wisconsin_ages = np.concatenate((wisconsi_ages1, wisconsi_ages2))\n",
    "\n",
    "print(wisconsin_ages.mean())"
   ]
  },
  {
   "cell_type": "code",
   "execution_count": 67,
   "id": "21f9db90",
   "metadata": {},
   "outputs": [
    {
     "data": {
      "text/plain": [
       "TtestResult(statistic=-1.7083870793286842, pvalue=0.09073104343957748, df=97.9724575497005)"
      ]
     },
     "execution_count": 67,
     "metadata": {},
     "output_type": "execute_result"
    }
   ],
   "source": [
    "stats.ttest_ind(minnesota_ages, \n",
    "                wisconsin_ages, \n",
    "                equal_var = False)"
   ]
  },
  {
   "cell_type": "markdown",
   "id": "90810c63",
   "metadata": {},
   "source": [
    "#### We'd expect to see two samples have means this far apart 9% of the time if they belonged to the same population. We would faile to reject the null hypothesis with a confidence interval of 95% "
   ]
  },
  {
   "cell_type": "markdown",
   "id": "01a343e9",
   "metadata": {},
   "source": [
    "## Paired T-Test"
   ]
  },
  {
   "cell_type": "markdown",
   "id": "4df3fb4f",
   "metadata": {},
   "source": [
    "#### This type of test is appropriate when you have two sets of observations that are related or paired in some way, such as before and after studies."
   ]
  },
  {
   "cell_type": "code",
   "execution_count": 71,
   "id": "0f4865bb",
   "metadata": {},
   "outputs": [
    {
     "data": {
      "text/html": [
       "<div>\n",
       "<style scoped>\n",
       "    .dataframe tbody tr th:only-of-type {\n",
       "        vertical-align: middle;\n",
       "    }\n",
       "\n",
       "    .dataframe tbody tr th {\n",
       "        vertical-align: top;\n",
       "    }\n",
       "\n",
       "    .dataframe thead th {\n",
       "        text-align: right;\n",
       "    }\n",
       "</style>\n",
       "<table border=\"1\" class=\"dataframe\">\n",
       "  <thead>\n",
       "    <tr style=\"text-align: right;\">\n",
       "      <th></th>\n",
       "      <th>weight_before</th>\n",
       "      <th>weight_after</th>\n",
       "      <th>weight_change:</th>\n",
       "    </tr>\n",
       "  </thead>\n",
       "  <tbody>\n",
       "    <tr>\n",
       "      <th>count</th>\n",
       "      <td>100.000000</td>\n",
       "      <td>100.000000</td>\n",
       "      <td>100.000000</td>\n",
       "    </tr>\n",
       "    <tr>\n",
       "      <th>mean</th>\n",
       "      <td>-1.192409</td>\n",
       "      <td>-2.422784</td>\n",
       "      <td>-1.230375</td>\n",
       "    </tr>\n",
       "    <tr>\n",
       "      <th>std</th>\n",
       "      <td>4.688757</td>\n",
       "      <td>6.616974</td>\n",
       "      <td>4.783696</td>\n",
       "    </tr>\n",
       "    <tr>\n",
       "      <th>min</th>\n",
       "      <td>-14.516593</td>\n",
       "      <td>-19.003106</td>\n",
       "      <td>-11.495286</td>\n",
       "    </tr>\n",
       "    <tr>\n",
       "      <th>25%</th>\n",
       "      <td>-4.513160</td>\n",
       "      <td>-6.275342</td>\n",
       "      <td>-4.046211</td>\n",
       "    </tr>\n",
       "    <tr>\n",
       "      <th>50%</th>\n",
       "      <td>-1.111532</td>\n",
       "      <td>-3.022943</td>\n",
       "      <td>-1.413463</td>\n",
       "    </tr>\n",
       "    <tr>\n",
       "      <th>75%</th>\n",
       "      <td>2.189524</td>\n",
       "      <td>2.005771</td>\n",
       "      <td>1.738673</td>\n",
       "    </tr>\n",
       "    <tr>\n",
       "      <th>max</th>\n",
       "      <td>9.533372</td>\n",
       "      <td>14.409241</td>\n",
       "      <td>9.759282</td>\n",
       "    </tr>\n",
       "  </tbody>\n",
       "</table>\n",
       "</div>"
      ],
      "text/plain": [
       "       weight_before  weight_after  weight_change:\n",
       "count     100.000000    100.000000      100.000000\n",
       "mean       -1.192409     -2.422784       -1.230375\n",
       "std         4.688757      6.616974        4.783696\n",
       "min       -14.516593    -19.003106      -11.495286\n",
       "25%        -4.513160     -6.275342       -4.046211\n",
       "50%        -1.111532     -3.022943       -1.413463\n",
       "75%         2.189524      2.005771        1.738673\n",
       "max         9.533372     14.409241        9.759282"
      ]
     },
     "execution_count": 71,
     "metadata": {},
     "output_type": "execute_result"
    }
   ],
   "source": [
    "np.random.seed(11)\n",
    "\n",
    "before = stats.norm.rvs(scale=5, loc=-1.25, size=100)\n",
    "\n",
    "after = before + stats.norm.rvs(scale = 5, loc = -1.25, size = 100)\n",
    "\n",
    "weight_df = pd.DataFrame({\"weight_before\":before,\n",
    "                         \"weight_after\":after,\n",
    "                         \"weight_change:\":after-before})\n",
    "\n",
    "weight_df.describe()"
   ]
  },
  {
   "cell_type": "code",
   "execution_count": 72,
   "id": "e3ca4ba5",
   "metadata": {},
   "outputs": [
    {
     "data": {
      "text/plain": [
       "TtestResult(statistic=2.572017599856831, pvalue=0.011596444318439777, df=99)"
      ]
     },
     "execution_count": 72,
     "metadata": {},
     "output_type": "execute_result"
    }
   ],
   "source": [
    "stats.ttest_rel(before, after)"
   ]
  },
  {
   "cell_type": "markdown",
   "id": "e9ea2201",
   "metadata": {},
   "source": [
    "## Type 1 and Type 2 Errors"
   ]
  },
  {
   "cell_type": "markdown",
   "id": "be0a7038",
   "metadata": {},
   "source": [
    "#### Type 1 Error - Incorrectly reject the null hypothesis\n",
    "#### Type 2 Error - Incorrectly fail to reject the null hypothesis"
   ]
  },
  {
   "cell_type": "code",
   "execution_count": 78,
   "id": "7fbf0513",
   "metadata": {},
   "outputs": [
    {
     "data": {
      "text/plain": [
       "Text(0, 0.02, 'Type 2 Error')"
      ]
     },
     "execution_count": 78,
     "metadata": {},
     "output_type": "execute_result"
    },
    {
     "data": {
      "image/png": "[encoded data removed]",
      "text/plain": [
       "<Figure size 1200x1000 with 1 Axes>"
      ]
     },
     "metadata": {},
     "output_type": "display_data"
    }
   ],
   "source": [
    "#Visualizing Type 1 and Type 2 Errors\n",
    "\n",
    "plt.figure(figsize = (12,10))\n",
    "\n",
    "plt.fill_between(x=np.arange(-4,-2,0.01),\n",
    "                y1 = stats.norm.pdf(np.arange(-4,-2,0.01)),\n",
    "                facecolor = 'red',\n",
    "                alpha= 0.35)\n",
    "\n",
    "plt.fill_between(x=np.arange(-2,2,0.01),\n",
    "                y1 = stats.norm.pdf(np.arange(-2,2,0.01)),\n",
    "                facecolor = 'grey',\n",
    "                alpha= 0.35)\n",
    "\n",
    "plt.fill_between(x=np.arange(2,4,0.01),\n",
    "                y1 = stats.norm.pdf(np.arange(2,4,0.01)),\n",
    "                facecolor = 'red',\n",
    "                alpha= 0.5)\n",
    "\n",
    "plt.fill_between(x=np.arange(-4,-2,0.01),\n",
    "                y1 = stats.norm.pdf(np.arange(-4,-2,0.01), loc = 3, scale = 2),\n",
    "                facecolor = 'grey',\n",
    "                alpha= 0.5)\n",
    "\n",
    "plt.fill_between(x=np.arange(-2,2,0.01),\n",
    "                y1 = stats.norm.pdf(np.arange(-2,2,0.01), loc = 3, scale = 2),\n",
    "                facecolor = 'blue',\n",
    "                alpha= 0.35)\n",
    "\n",
    "plt.fill_between(x=np.arange(2,10,0.01),\n",
    "                y1 = stats.norm.pdf(np.arange(2,10,0.01), loc = 3, scale = 2),\n",
    "                facecolor = 'grey',\n",
    "                alpha= 0.35)\n",
    "\n",
    "plt.text(x = -0.8, y=0.15, s = \"Null Hypothesis\")\n",
    "plt.text(x = 2.5, y=0.13, s = \"Alternative\")\n",
    "plt.text(x = 2.1, y=0.01, s = \"Type 1 Error\")\n",
    "plt.text(x = -3.2, y=0.01, s = \"Type 1 Error\")\n",
    "plt.text(x = 0, y=0.02, s = \"Type 2 Error\")"
   ]
  }
 ],
 "metadata": {
  "kernelspec": {
   "display_name": "Python 3 (ipykernel)",
   "language": "python",
   "name": "python3"
  },
  "language_info": {
   "codemirror_mode": {
    "name": "ipython",
    "version": 3
   },
   "file_extension": ".py",
   "mimetype": "text/x-python",
   "name": "python",
   "nbconvert_exporter": "python",
   "pygments_lexer": "ipython3",
   "version": "3.9.18"
  }
 },
 "nbformat": 4,
 "nbformat_minor": 5
}
